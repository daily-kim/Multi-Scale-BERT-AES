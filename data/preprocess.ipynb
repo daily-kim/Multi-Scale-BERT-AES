{
 "cells": [
  {
   "cell_type": "code",
   "execution_count": 5,
   "metadata": {},
   "outputs": [],
   "source": [
    "# split dfsub as  6:2:2train, valid, test as 5-fold cross validation\n",
    "import numpy as np\n",
    "import pandas as pd\n",
    "from sklearn.model_selection import train_test_split\n",
    "\n",
    "dir  = \"/workspace/data/\"\n",
    "df = pd.read_excel(dir+'training_set_rel3.xls')\n",
    "\n",
    "for i in range(1,9):\n",
    "    dfsub = df[df.essay_set ==i]\n",
    "    dfsub = pd.DataFrame(dfsub,columns=['essay_id','essay','domain1_score'])\n",
    "    dfsub.columns = ['eid','essay','score']\n",
    "    dfsub.score = pd.to_numeric(dfsub.score,downcast='integer')\n",
    "    dfsub = dfsub.dropna(axis=0,how='any')\n",
    "    dfsub = dfsub.reset_index(drop=True)\n",
    "    # make 5 fold cross validation\n",
    "    for f in range(5):\n",
    "        dfsub_train, dfsub_test = train_test_split(dfsub, test_size=0.2, random_state=42)\n",
    "        dfsub_train, dfsub_valid = train_test_split(dfsub_train, test_size=0.25, random_state=42)\n",
    "        dfsub_train = dfsub_train.reset_index(drop=True)\n",
    "        dfsub_valid = dfsub_valid.reset_index(drop=True)\n",
    "        dfsub_test = dfsub_test.reset_index(drop=True)\n",
    "        dfsub_train.to_csv(dir+'p'+str(i)+'_fold'+str(f)+'_train.txt',index=False,sep='\\t',header=False)\n",
    "        dfsub_valid.to_csv(dir+'p'+str(i)+'_fold'+str(f)+'_valid.txt',index=False,sep='\\t',header=False)\n",
    "        dfsub_test.to_csv(dir+'p'+str(i)+'_fold'+str(f)+'_test.txt',index=False,sep='\\t',header=False)\n"
   ]
  }
 ],
 "metadata": {
  "kernelspec": {
   "display_name": "base",
   "language": "python",
   "name": "python3"
  },
  "language_info": {
   "codemirror_mode": {
    "name": "ipython",
    "version": 3
   },
   "file_extension": ".py",
   "mimetype": "text/x-python",
   "name": "python",
   "nbconvert_exporter": "python",
   "pygments_lexer": "ipython3",
   "version": "3.8.12"
  },
  "orig_nbformat": 4
 },
 "nbformat": 4,
 "nbformat_minor": 2
}
